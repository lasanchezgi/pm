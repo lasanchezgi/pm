{
 "cells": [
  {
   "cell_type": "markdown",
   "metadata": {},
   "source": [
    "# Analisis general: Esculturas publicas de Medellín\n",
    "## Limpieza"
   ]
  },
  {
   "cell_type": "markdown",
   "metadata": {},
   "source": [
    "### Importar librerias"
   ]
  },
  {
   "cell_type": "code",
   "execution_count": 1,
   "metadata": {},
   "outputs": [],
   "source": [
    "import pandas as pd\n",
    "\n",
    "import matplotlib.pyplot as plt\n",
    "import seaborn as sns\n",
    "colors = ['#1D1B1D', '#3B393B', '#605A39', '#7A6E45', '#9F8A6A', '#C6A078', '#B65022', '#D47138', '#F2E3C6', '#F5E1B0', '#F4F4F4', '#E0E0E0', '#2F2B2F', '#D9C6AD', '#987E5A']\n",
    "sns.set_palette(sns.color_palette(colors))\n",
    "\n",
    "import warnings\n",
    "warnings.filterwarnings('ignore')"
   ]
  },
  {
   "cell_type": "markdown",
   "metadata": {},
   "source": [
    "### Importar funciones especializadas"
   ]
  },
  {
   "cell_type": "code",
   "execution_count": 2,
   "metadata": {},
   "outputs": [],
   "source": [
    "%run '../utils/funciones.ipynb'"
   ]
  },
  {
   "cell_type": "markdown",
   "metadata": {},
   "source": [
    "### Importar datos"
   ]
  },
  {
   "cell_type": "code",
   "execution_count": 3,
   "metadata": {},
   "outputs": [
    {
     "data": {
      "text/html": [
       "<div>\n",
       "<style scoped>\n",
       "    .dataframe tbody tr th:only-of-type {\n",
       "        vertical-align: middle;\n",
       "    }\n",
       "\n",
       "    .dataframe tbody tr th {\n",
       "        vertical-align: top;\n",
       "    }\n",
       "\n",
       "    .dataframe thead th {\n",
       "        text-align: right;\n",
       "    }\n",
       "</style>\n",
       "<table border=\"1\" class=\"dataframe\">\n",
       "  <thead>\n",
       "    <tr style=\"text-align: right;\">\n",
       "      <th></th>\n",
       "      <th>id</th>\n",
       "      <th>codigo-area</th>\n",
       "      <th>area</th>\n",
       "      <th>name</th>\n",
       "      <th>general-direction</th>\n",
       "      <th>type</th>\n",
       "      <th>year</th>\n",
       "      <th>author</th>\n",
       "      <th>latitude</th>\n",
       "      <th>longitude</th>\n",
       "    </tr>\n",
       "  </thead>\n",
       "  <tbody>\n",
       "    <tr>\n",
       "      <th>165</th>\n",
       "      <td>166</td>\n",
       "      <td>10</td>\n",
       "      <td>la candelaria</td>\n",
       "      <td>jose maria bravo marquez</td>\n",
       "      <td>avenida la playa</td>\n",
       "      <td>busto</td>\n",
       "      <td>NaN</td>\n",
       "      <td>janeth reyes rivera</td>\n",
       "      <td>6,2484689</td>\n",
       "      <td>-75,5612659</td>\n",
       "    </tr>\n",
       "    <tr>\n",
       "      <th>166</th>\n",
       "      <td>167</td>\n",
       "      <td>10</td>\n",
       "      <td>la candelaria</td>\n",
       "      <td>blanca isaza jaramillo meza</td>\n",
       "      <td>avenida la playa</td>\n",
       "      <td>busto</td>\n",
       "      <td>2006.0</td>\n",
       "      <td>janeth reyes rivera</td>\n",
       "      <td>6,2484689</td>\n",
       "      <td>-75,5612659</td>\n",
       "    </tr>\n",
       "    <tr>\n",
       "      <th>167</th>\n",
       "      <td>168</td>\n",
       "      <td>10</td>\n",
       "      <td>la candelaria</td>\n",
       "      <td>arbol de la vida - boston</td>\n",
       "      <td>calle 52 con carrera 36</td>\n",
       "      <td>escultura</td>\n",
       "      <td>2012.0</td>\n",
       "      <td>leobardo perez jimenez</td>\n",
       "      <td>6,2474261</td>\n",
       "      <td>-75,5576255</td>\n",
       "    </tr>\n",
       "    <tr>\n",
       "      <th>168</th>\n",
       "      <td>169</td>\n",
       "      <td>10</td>\n",
       "      <td>la candelaria</td>\n",
       "      <td>general jose maria cordova</td>\n",
       "      <td>carrera 38 con calle 54</td>\n",
       "      <td>escultura</td>\n",
       "      <td>1957.0</td>\n",
       "      <td>marco tobon mejia</td>\n",
       "      <td>6,2481596</td>\n",
       "      <td>-75,5577608</td>\n",
       "    </tr>\n",
       "    <tr>\n",
       "      <th>169</th>\n",
       "      <td>170</td>\n",
       "      <td>10</td>\n",
       "      <td>la candelaria</td>\n",
       "      <td>carlos castro saavedra</td>\n",
       "      <td>carrera 38 con calle 54</td>\n",
       "      <td>busto</td>\n",
       "      <td>1989.0</td>\n",
       "      <td>oscar rojas</td>\n",
       "      <td>6,2483950</td>\n",
       "      <td>-75,5573788</td>\n",
       "    </tr>\n",
       "  </tbody>\n",
       "</table>\n",
       "</div>"
      ],
      "text/plain": [
       "      id  codigo-area           area                         name  \\\n",
       "165  166           10  la candelaria     jose maria bravo marquez   \n",
       "166  167           10  la candelaria  blanca isaza jaramillo meza   \n",
       "167  168           10  la candelaria    arbol de la vida - boston   \n",
       "168  169           10  la candelaria   general jose maria cordova   \n",
       "169  170           10  la candelaria       carlos castro saavedra   \n",
       "\n",
       "           general-direction       type    year                  author  \\\n",
       "165         avenida la playa      busto     NaN     janeth reyes rivera   \n",
       "166         avenida la playa      busto  2006.0     janeth reyes rivera   \n",
       "167  calle 52 con carrera 36  escultura  2012.0  leobardo perez jimenez   \n",
       "168  carrera 38 con calle 54  escultura  1957.0       marco tobon mejia   \n",
       "169  carrera 38 con calle 54      busto  1989.0             oscar rojas   \n",
       "\n",
       "      latitude    longitude  \n",
       "165  6,2484689  -75,5612659  \n",
       "166  6,2484689  -75,5612659  \n",
       "167  6,2474261  -75,5576255  \n",
       "168  6,2481596  -75,5577608  \n",
       "169  6,2483950  -75,5573788  "
      ]
     },
     "execution_count": 3,
     "metadata": {},
     "output_type": "execute_result"
    }
   ],
   "source": [
    "df = pd.read_csv('../data/esculturas-publicas-medellin.csv')\n",
    "df.tail()"
   ]
  },
  {
   "cell_type": "markdown",
   "metadata": {},
   "source": [
    "### Imformación general"
   ]
  },
  {
   "cell_type": "code",
   "execution_count": 4,
   "metadata": {},
   "outputs": [
    {
     "name": "stdout",
     "output_type": "stream",
     "text": [
      "<class 'pandas.core.frame.DataFrame'>\n",
      "RangeIndex: 170 entries, 0 to 169\n",
      "Data columns (total 10 columns):\n",
      " #   Column             Non-Null Count  Dtype  \n",
      "---  ------             --------------  -----  \n",
      " 0   id                 170 non-null    int64  \n",
      " 1   codigo-area        170 non-null    int64  \n",
      " 2   area               170 non-null    object \n",
      " 3   name               170 non-null    object \n",
      " 4   general-direction  170 non-null    object \n",
      " 5   type               170 non-null    object \n",
      " 6   year               156 non-null    float64\n",
      " 7   author             170 non-null    object \n",
      " 8   latitude           170 non-null    object \n",
      " 9   longitude          170 non-null    object \n",
      "dtypes: float64(1), int64(2), object(7)\n",
      "memory usage: 13.4+ KB\n"
     ]
    }
   ],
   "source": [
    "# Información general del dataset\n",
    "df.info()"
   ]
  },
  {
   "cell_type": "markdown",
   "metadata": {},
   "source": [
    "## Estandarización de formatos"
   ]
  },
  {
   "cell_type": "code",
   "execution_count": 5,
   "metadata": {},
   "outputs": [
    {
     "data": {
      "text/html": [
       "<div>\n",
       "<style scoped>\n",
       "    .dataframe tbody tr th:only-of-type {\n",
       "        vertical-align: middle;\n",
       "    }\n",
       "\n",
       "    .dataframe tbody tr th {\n",
       "        vertical-align: top;\n",
       "    }\n",
       "\n",
       "    .dataframe thead th {\n",
       "        text-align: right;\n",
       "    }\n",
       "</style>\n",
       "<table border=\"1\" class=\"dataframe\">\n",
       "  <thead>\n",
       "    <tr style=\"text-align: right;\">\n",
       "      <th></th>\n",
       "      <th>codigo-area</th>\n",
       "      <th>area</th>\n",
       "      <th>name</th>\n",
       "      <th>general-direction</th>\n",
       "      <th>type</th>\n",
       "      <th>year</th>\n",
       "      <th>author</th>\n",
       "      <th>latitude</th>\n",
       "      <th>longitude</th>\n",
       "    </tr>\n",
       "  </thead>\n",
       "  <tbody>\n",
       "    <tr>\n",
       "      <th>0</th>\n",
       "      <td>3</td>\n",
       "      <td>manrique</td>\n",
       "      <td>carlos gardel</td>\n",
       "      <td>carrera 45 con calle 73</td>\n",
       "      <td>escultura</td>\n",
       "      <td>1968.0</td>\n",
       "      <td>alfonso goez</td>\n",
       "      <td>6.269014</td>\n",
       "      <td>-75.554733</td>\n",
       "    </tr>\n",
       "    <tr>\n",
       "      <th>1</th>\n",
       "      <td>3</td>\n",
       "      <td>manrique</td>\n",
       "      <td>jorge eliecer gaitan ayala</td>\n",
       "      <td>carrera 37 con calle 69</td>\n",
       "      <td>escultura</td>\n",
       "      <td>2004.0</td>\n",
       "      <td>rodolfo montoya</td>\n",
       "      <td>6.265313</td>\n",
       "      <td>-75.548335</td>\n",
       "    </tr>\n",
       "    <tr>\n",
       "      <th>2</th>\n",
       "      <td>4</td>\n",
       "      <td>aranjuez</td>\n",
       "      <td>talentos en libertad</td>\n",
       "      <td>carrera 48 con calle 93</td>\n",
       "      <td>escultura</td>\n",
       "      <td>2003.0</td>\n",
       "      <td>luz maria piedrahita</td>\n",
       "      <td>6.285199</td>\n",
       "      <td>-75.556308</td>\n",
       "    </tr>\n",
       "    <tr>\n",
       "      <th>3</th>\n",
       "      <td>4</td>\n",
       "      <td>aranjuez</td>\n",
       "      <td>antonio nariño</td>\n",
       "      <td>carrera 50 con calle 90</td>\n",
       "      <td>escultura</td>\n",
       "      <td>1962.0</td>\n",
       "      <td>alfonso goez</td>\n",
       "      <td>6.282458</td>\n",
       "      <td>-75.561160</td>\n",
       "    </tr>\n",
       "    <tr>\n",
       "      <th>4</th>\n",
       "      <td>4</td>\n",
       "      <td>aranjuez</td>\n",
       "      <td>cristo</td>\n",
       "      <td>carrera 50 con calle 90</td>\n",
       "      <td>escultura</td>\n",
       "      <td>1983.0</td>\n",
       "      <td>josue giraldo</td>\n",
       "      <td>6.282358</td>\n",
       "      <td>-75.561155</td>\n",
       "    </tr>\n",
       "  </tbody>\n",
       "</table>\n",
       "</div>"
      ],
      "text/plain": [
       "   codigo-area      area                        name        general-direction  \\\n",
       "0            3  manrique               carlos gardel  carrera 45 con calle 73   \n",
       "1            3  manrique  jorge eliecer gaitan ayala  carrera 37 con calle 69   \n",
       "2            4  aranjuez        talentos en libertad  carrera 48 con calle 93   \n",
       "3            4  aranjuez              antonio nariño  carrera 50 con calle 90   \n",
       "4            4  aranjuez                      cristo  carrera 50 con calle 90   \n",
       "\n",
       "        type    year                author  latitude  longitude  \n",
       "0  escultura  1968.0          alfonso goez  6.269014 -75.554733  \n",
       "1  escultura  2004.0       rodolfo montoya  6.265313 -75.548335  \n",
       "2  escultura  2003.0  luz maria piedrahita  6.285199 -75.556308  \n",
       "3  escultura  1962.0          alfonso goez  6.282458 -75.561160  \n",
       "4  escultura  1983.0         josue giraldo  6.282358 -75.561155  "
      ]
     },
     "execution_count": 5,
     "metadata": {},
     "output_type": "execute_result"
    }
   ],
   "source": [
    "# Eliminación de la columna 'id' que no aporta información relevante\n",
    "df = df.drop(columns=['id'])\n",
    "# Estandarización de los formatos de las columnas\n",
    "df['latitude'] = df['latitude'].apply(lambda x: x.replace(',', '.')).astype(float)\n",
    "df['longitude'] = df['longitude'].apply(lambda x: x.replace(',', '.')).astype(float)\n",
    "df.head()"
   ]
  },
  {
   "cell_type": "markdown",
   "metadata": {},
   "source": [
    "## Datos nulos"
   ]
  },
  {
   "cell_type": "code",
   "execution_count": 6,
   "metadata": {},
   "outputs": [
    {
     "name": "stdout",
     "output_type": "stream",
     "text": [
      "Registros nulos por columna (NaN):\n",
      "year    14\n",
      "dtype: int64\n",
      "---------------------------------\n"
     ]
    }
   ],
   "source": [
    "generar_reporte_nulos(df)"
   ]
  },
  {
   "cell_type": "code",
   "execution_count": 7,
   "metadata": {},
   "outputs": [
    {
     "data": {
      "text/plain": [
       "8.24"
      ]
     },
     "execution_count": 7,
     "metadata": {},
     "output_type": "execute_result"
    }
   ],
   "source": [
    "# Proporción de nulos en el dataset (%)\n",
    "round(14/len(df)*100, 2)"
   ]
  },
  {
   "cell_type": "markdown",
   "metadata": {},
   "source": [
    "Se tienen 14 esculturas en Medellín que no registran el año de creación. Puede que por el tiempo se haya borrado su año de creación, es decir, ya no sea legible, o desde su instalación no se hizo el respectivo registro.\n",
    "\n",
    "Representan aproximadamente el 8% del dataset."
   ]
  },
  {
   "cell_type": "markdown",
   "metadata": {},
   "source": [
    "### ¿Cuales son esas esculturas que no registra su año?"
   ]
  },
  {
   "cell_type": "code",
   "execution_count": 8,
   "metadata": {},
   "outputs": [
    {
     "data": {
      "text/html": [
       "<div>\n",
       "<style scoped>\n",
       "    .dataframe tbody tr th:only-of-type {\n",
       "        vertical-align: middle;\n",
       "    }\n",
       "\n",
       "    .dataframe tbody tr th {\n",
       "        vertical-align: top;\n",
       "    }\n",
       "\n",
       "    .dataframe thead th {\n",
       "        text-align: right;\n",
       "    }\n",
       "</style>\n",
       "<table border=\"1\" class=\"dataframe\">\n",
       "  <thead>\n",
       "    <tr style=\"text-align: right;\">\n",
       "      <th></th>\n",
       "      <th>codigo-area</th>\n",
       "      <th>area</th>\n",
       "      <th>name</th>\n",
       "      <th>general-direction</th>\n",
       "      <th>type</th>\n",
       "      <th>year</th>\n",
       "      <th>author</th>\n",
       "      <th>latitude</th>\n",
       "      <th>longitude</th>\n",
       "    </tr>\n",
       "  </thead>\n",
       "  <tbody>\n",
       "    <tr>\n",
       "      <th>25</th>\n",
       "      <td>12</td>\n",
       "      <td>la america</td>\n",
       "      <td>el silleterito</td>\n",
       "      <td>calle 46 con carrera 85</td>\n",
       "      <td>escultura</td>\n",
       "      <td>NaN</td>\n",
       "      <td>autor desconocido</td>\n",
       "      <td>6.255953</td>\n",
       "      <td>-75.601386</td>\n",
       "    </tr>\n",
       "    <tr>\n",
       "      <th>44</th>\n",
       "      <td>90</td>\n",
       "      <td>santa elena</td>\n",
       "      <td>palomas</td>\n",
       "      <td>parque principal corregimiento de santa elena</td>\n",
       "      <td>escultura</td>\n",
       "      <td>NaN</td>\n",
       "      <td>autor desconocido</td>\n",
       "      <td>6.209949</td>\n",
       "      <td>-75.498063</td>\n",
       "    </tr>\n",
       "    <tr>\n",
       "      <th>66</th>\n",
       "      <td>10</td>\n",
       "      <td>la candelaria</td>\n",
       "      <td>benito juarez</td>\n",
       "      <td>calle 37 con carrera 43a</td>\n",
       "      <td>busto</td>\n",
       "      <td>NaN</td>\n",
       "      <td>autor desconocido</td>\n",
       "      <td>6.237018</td>\n",
       "      <td>-75.569743</td>\n",
       "    </tr>\n",
       "    <tr>\n",
       "      <th>83</th>\n",
       "      <td>10</td>\n",
       "      <td>la candelaria</td>\n",
       "      <td>replica locomotora</td>\n",
       "      <td>calle 42 con carrera 52</td>\n",
       "      <td>escultura</td>\n",
       "      <td>NaN</td>\n",
       "      <td>autor desconocido</td>\n",
       "      <td>6.244717</td>\n",
       "      <td>-75.572889</td>\n",
       "    </tr>\n",
       "    <tr>\n",
       "      <th>124</th>\n",
       "      <td>10</td>\n",
       "      <td>la candelaria</td>\n",
       "      <td>pedro jose berrio</td>\n",
       "      <td>carrera 52 con calle 52</td>\n",
       "      <td>busto</td>\n",
       "      <td>NaN</td>\n",
       "      <td>autor desconocido</td>\n",
       "      <td>6.251460</td>\n",
       "      <td>-75.567700</td>\n",
       "    </tr>\n",
       "    <tr>\n",
       "      <th>129</th>\n",
       "      <td>10</td>\n",
       "      <td>la candelaria</td>\n",
       "      <td>san juan bosco</td>\n",
       "      <td>carrera 45 con calle 57</td>\n",
       "      <td>escultura</td>\n",
       "      <td>NaN</td>\n",
       "      <td>autor desconocido</td>\n",
       "      <td>6.253359</td>\n",
       "      <td>-75.560468</td>\n",
       "    </tr>\n",
       "    <tr>\n",
       "      <th>71</th>\n",
       "      <td>10</td>\n",
       "      <td>la candelaria</td>\n",
       "      <td>juan del corral - estacion prado</td>\n",
       "      <td>carrera 52 con calle 58</td>\n",
       "      <td>busto</td>\n",
       "      <td>NaN</td>\n",
       "      <td>bernardo vieco</td>\n",
       "      <td>6.256361</td>\n",
       "      <td>-75.566214</td>\n",
       "    </tr>\n",
       "    <tr>\n",
       "      <th>65</th>\n",
       "      <td>10</td>\n",
       "      <td>la candelaria</td>\n",
       "      <td>torre roja</td>\n",
       "      <td>calle 31 con carrera 42b</td>\n",
       "      <td>escultura abstracta</td>\n",
       "      <td>NaN</td>\n",
       "      <td>eduardo ramirez villamizar</td>\n",
       "      <td>6.231568</td>\n",
       "      <td>-75.568381</td>\n",
       "    </tr>\n",
       "    <tr>\n",
       "      <th>72</th>\n",
       "      <td>10</td>\n",
       "      <td>la candelaria</td>\n",
       "      <td>busto gilberto echeverry</td>\n",
       "      <td>calle 42 con carrera 52</td>\n",
       "      <td>busto</td>\n",
       "      <td>NaN</td>\n",
       "      <td>jairo cano</td>\n",
       "      <td>6.242539</td>\n",
       "      <td>-75.574938</td>\n",
       "    </tr>\n",
       "    <tr>\n",
       "      <th>74</th>\n",
       "      <td>10</td>\n",
       "      <td>la candelaria</td>\n",
       "      <td>busto guillerma gaviria</td>\n",
       "      <td>calle 42 con carrera 52</td>\n",
       "      <td>busto</td>\n",
       "      <td>NaN</td>\n",
       "      <td>jairo cano</td>\n",
       "      <td>6.243328</td>\n",
       "      <td>-75.574864</td>\n",
       "    </tr>\n",
       "    <tr>\n",
       "      <th>165</th>\n",
       "      <td>10</td>\n",
       "      <td>la candelaria</td>\n",
       "      <td>jose maria bravo marquez</td>\n",
       "      <td>avenida la playa</td>\n",
       "      <td>busto</td>\n",
       "      <td>NaN</td>\n",
       "      <td>janeth reyes rivera</td>\n",
       "      <td>6.248469</td>\n",
       "      <td>-75.561266</td>\n",
       "    </tr>\n",
       "    <tr>\n",
       "      <th>95</th>\n",
       "      <td>10</td>\n",
       "      <td>la candelaria</td>\n",
       "      <td>jorge eliecer gaitan - avenida oriental</td>\n",
       "      <td>calle 50 con carrera 46</td>\n",
       "      <td>busto</td>\n",
       "      <td>NaN</td>\n",
       "      <td>oscar rojas</td>\n",
       "      <td>6.248670</td>\n",
       "      <td>-75.565339</td>\n",
       "    </tr>\n",
       "    <tr>\n",
       "      <th>31</th>\n",
       "      <td>14</td>\n",
       "      <td>poblado</td>\n",
       "      <td>el flautista y la bailarina</td>\n",
       "      <td>calle 9 con carrera 39</td>\n",
       "      <td>escultura</td>\n",
       "      <td>NaN</td>\n",
       "      <td>rodrigo arenas betancourt</td>\n",
       "      <td>6.208981</td>\n",
       "      <td>-75.567957</td>\n",
       "    </tr>\n",
       "    <tr>\n",
       "      <th>79</th>\n",
       "      <td>10</td>\n",
       "      <td>la candelaria</td>\n",
       "      <td>monumento a la raza</td>\n",
       "      <td>calle 44 con carrera 52</td>\n",
       "      <td>escultura</td>\n",
       "      <td>NaN</td>\n",
       "      <td>rodrigo arenas betancourt</td>\n",
       "      <td>6.244329</td>\n",
       "      <td>-75.573637</td>\n",
       "    </tr>\n",
       "  </tbody>\n",
       "</table>\n",
       "</div>"
      ],
      "text/plain": [
       "     codigo-area           area                                     name  \\\n",
       "25            12     la america                           el silleterito   \n",
       "44            90    santa elena                                  palomas   \n",
       "66            10  la candelaria                            benito juarez   \n",
       "83            10  la candelaria                       replica locomotora   \n",
       "124           10  la candelaria                        pedro jose berrio   \n",
       "129           10  la candelaria                           san juan bosco   \n",
       "71            10  la candelaria         juan del corral - estacion prado   \n",
       "65            10  la candelaria                               torre roja   \n",
       "72            10  la candelaria                 busto gilberto echeverry   \n",
       "74            10  la candelaria                  busto guillerma gaviria   \n",
       "165           10  la candelaria                 jose maria bravo marquez   \n",
       "95            10  la candelaria  jorge eliecer gaitan - avenida oriental   \n",
       "31            14        poblado              el flautista y la bailarina   \n",
       "79            10  la candelaria                      monumento a la raza   \n",
       "\n",
       "                                 general-direction                 type  year  \\\n",
       "25                         calle 46 con carrera 85            escultura   NaN   \n",
       "44   parque principal corregimiento de santa elena            escultura   NaN   \n",
       "66                        calle 37 con carrera 43a                busto   NaN   \n",
       "83                         calle 42 con carrera 52            escultura   NaN   \n",
       "124                        carrera 52 con calle 52                busto   NaN   \n",
       "129                        carrera 45 con calle 57            escultura   NaN   \n",
       "71                         carrera 52 con calle 58                busto   NaN   \n",
       "65                        calle 31 con carrera 42b  escultura abstracta   NaN   \n",
       "72                         calle 42 con carrera 52                busto   NaN   \n",
       "74                         calle 42 con carrera 52                busto   NaN   \n",
       "165                               avenida la playa                busto   NaN   \n",
       "95                         calle 50 con carrera 46                busto   NaN   \n",
       "31                          calle 9 con carrera 39            escultura   NaN   \n",
       "79                         calle 44 con carrera 52            escultura   NaN   \n",
       "\n",
       "                         author  latitude  longitude  \n",
       "25            autor desconocido  6.255953 -75.601386  \n",
       "44            autor desconocido  6.209949 -75.498063  \n",
       "66            autor desconocido  6.237018 -75.569743  \n",
       "83            autor desconocido  6.244717 -75.572889  \n",
       "124           autor desconocido  6.251460 -75.567700  \n",
       "129           autor desconocido  6.253359 -75.560468  \n",
       "71               bernardo vieco  6.256361 -75.566214  \n",
       "65   eduardo ramirez villamizar  6.231568 -75.568381  \n",
       "72                   jairo cano  6.242539 -75.574938  \n",
       "74                   jairo cano  6.243328 -75.574864  \n",
       "165         janeth reyes rivera  6.248469 -75.561266  \n",
       "95                  oscar rojas  6.248670 -75.565339  \n",
       "31    rodrigo arenas betancourt  6.208981 -75.567957  \n",
       "79    rodrigo arenas betancourt  6.244329 -75.573637  "
      ]
     },
     "execution_count": 8,
     "metadata": {},
     "output_type": "execute_result"
    }
   ],
   "source": [
    "df_null = df[df['year'].isnull()].sort_values(by='author')\n",
    "df_null"
   ]
  },
  {
   "cell_type": "markdown",
   "metadata": {},
   "source": [
    "### Analisis"
   ]
  },
  {
   "cell_type": "markdown",
   "metadata": {},
   "source": [
    "Esculturas sin año registrado por área"
   ]
  },
  {
   "cell_type": "code",
   "execution_count": 9,
   "metadata": {},
   "outputs": [
    {
     "data": {
      "image/png": "[encoded data removed]",
      "text/plain": [
       "<Figure size 1000x600 with 1 Axes>"
      ]
     },
     "metadata": {},
     "output_type": "display_data"
    }
   ],
   "source": [
    "plt.figure(figsize=(10, 6))\n",
    "ax = sns.countplot(data=df_null, y='area', order=df_null['area'].value_counts().index, palette=colors)\n",
    "# Agregar etiquetas a cada barra\n",
    "for p in ax.patches:\n",
    "    ax.annotate(f'{p.get_width()}', (p.get_width(), p.get_y() + p.get_height() / 2.), \n",
    "                ha='center', va='center', xytext=(10, 0), textcoords='offset points')\n",
    "plt.title('Cantidad de esculturas sin año registrado por área')\n",
    "plt.xlabel('Cantidad de esculturas')\n",
    "plt.ylabel('Área')\n",
    "plt.show()"
   ]
  },
  {
   "cell_type": "markdown",
   "metadata": {},
   "source": [
    "Proporción"
   ]
  },
  {
   "cell_type": "code",
   "execution_count": 10,
   "metadata": {},
   "outputs": [
    {
     "data": {
      "image/png": "[encoded data removed]",
      "text/plain": [
       "<Figure size 1000x600 with 1 Axes>"
      ]
     },
     "metadata": {},
     "output_type": "display_data"
    }
   ],
   "source": [
    "plt.figure(figsize=(10, 6))\n",
    "circulo = plt.Circle((0, 0), 0.7, color='white')\n",
    "plt.pie(df_null['area'].value_counts(), labels=df_null['area'].value_counts().index, autopct='%1.1f%%', startangle=90, colors=colors)\n",
    "p = plt.gcf()\n",
    "p.gca().add_artist(circulo)\n",
    "plt.title('Proporción de esculturas sin año registrado por área')\n",
    "plt.show()"
   ]
  },
  {
   "cell_type": "markdown",
   "metadata": {},
   "source": [
    "Proporción de tipos de esculturas sin año registrado"
   ]
  },
  {
   "cell_type": "code",
   "execution_count": 11,
   "metadata": {},
   "outputs": [
    {
     "data": {
      "image/png": "[encoded data removed]",
      "text/plain": [
       "<Figure size 1000x600 with 1 Axes>"
      ]
     },
     "metadata": {},
     "output_type": "display_data"
    }
   ],
   "source": [
    "plt.figure(figsize=(10, 6))\n",
    "circulo = plt.Circle((0, 0), 0.7, color='white')\n",
    "plt.pie(df_null['type'].value_counts(), labels=df_null['type'].value_counts().index, autopct='%1.1f%%', startangle=90, colors=colors)\n",
    "p = plt.gcf()\n",
    "p.gca().add_artist(circulo)\n",
    "plt.title('Proporción tipos de esculturas sin año registrado')\n",
    "plt.show()"
   ]
  },
  {
   "cell_type": "markdown",
   "metadata": {},
   "source": [
    "Esculturas sin año registrado por autor"
   ]
  },
  {
   "cell_type": "code",
   "execution_count": 12,
   "metadata": {},
   "outputs": [
    {
     "data": {
      "image/png": "[encoded data removed]",
      "text/plain": [
       "<Figure size 1000x600 with 1 Axes>"
      ]
     },
     "metadata": {},
     "output_type": "display_data"
    }
   ],
   "source": [
    "plt.figure(figsize=(10, 6))\n",
    "ax = sns.countplot(data=df_null, y='author', order=df_null['author'].value_counts().index, palette=colors)\n",
    "# Agregar etiquetas a cada barra\n",
    "for p in ax.patches:\n",
    "    ax.annotate(f'{p.get_width()}', (p.get_width(), p.get_y() + p.get_height() / 2.), \n",
    "                ha='center', va='center', xytext=(10, 0), textcoords='offset points')\n",
    "plt.title('Cantidad de esculturas sin año registrado por autor')\n",
    "plt.xlabel('Cantidad de esculturas')\n",
    "plt.ylabel('Área')\n",
    "plt.show()"
   ]
  },
  {
   "cell_type": "markdown",
   "metadata": {},
   "source": [
    "Se opta por eliminar los registros cuyo año esta nulo"
   ]
  },
  {
   "cell_type": "code",
   "execution_count": 13,
   "metadata": {},
   "outputs": [
    {
     "data": {
      "text/html": [
       "<div>\n",
       "<style scoped>\n",
       "    .dataframe tbody tr th:only-of-type {\n",
       "        vertical-align: middle;\n",
       "    }\n",
       "\n",
       "    .dataframe tbody tr th {\n",
       "        vertical-align: top;\n",
       "    }\n",
       "\n",
       "    .dataframe thead th {\n",
       "        text-align: right;\n",
       "    }\n",
       "</style>\n",
       "<table border=\"1\" class=\"dataframe\">\n",
       "  <thead>\n",
       "    <tr style=\"text-align: right;\">\n",
       "      <th></th>\n",
       "      <th>codigo-area</th>\n",
       "      <th>area</th>\n",
       "      <th>name</th>\n",
       "      <th>general-direction</th>\n",
       "      <th>type</th>\n",
       "      <th>year</th>\n",
       "      <th>author</th>\n",
       "      <th>latitude</th>\n",
       "      <th>longitude</th>\n",
       "    </tr>\n",
       "  </thead>\n",
       "  <tbody>\n",
       "    <tr>\n",
       "      <th>0</th>\n",
       "      <td>3</td>\n",
       "      <td>manrique</td>\n",
       "      <td>carlos gardel</td>\n",
       "      <td>carrera 45 con calle 73</td>\n",
       "      <td>escultura</td>\n",
       "      <td>1968</td>\n",
       "      <td>alfonso goez</td>\n",
       "      <td>6.269014</td>\n",
       "      <td>-75.554733</td>\n",
       "    </tr>\n",
       "    <tr>\n",
       "      <th>1</th>\n",
       "      <td>3</td>\n",
       "      <td>manrique</td>\n",
       "      <td>jorge eliecer gaitan ayala</td>\n",
       "      <td>carrera 37 con calle 69</td>\n",
       "      <td>escultura</td>\n",
       "      <td>2004</td>\n",
       "      <td>rodolfo montoya</td>\n",
       "      <td>6.265313</td>\n",
       "      <td>-75.548335</td>\n",
       "    </tr>\n",
       "    <tr>\n",
       "      <th>2</th>\n",
       "      <td>4</td>\n",
       "      <td>aranjuez</td>\n",
       "      <td>talentos en libertad</td>\n",
       "      <td>carrera 48 con calle 93</td>\n",
       "      <td>escultura</td>\n",
       "      <td>2003</td>\n",
       "      <td>luz maria piedrahita</td>\n",
       "      <td>6.285199</td>\n",
       "      <td>-75.556308</td>\n",
       "    </tr>\n",
       "    <tr>\n",
       "      <th>3</th>\n",
       "      <td>4</td>\n",
       "      <td>aranjuez</td>\n",
       "      <td>antonio nariño</td>\n",
       "      <td>carrera 50 con calle 90</td>\n",
       "      <td>escultura</td>\n",
       "      <td>1962</td>\n",
       "      <td>alfonso goez</td>\n",
       "      <td>6.282458</td>\n",
       "      <td>-75.561160</td>\n",
       "    </tr>\n",
       "    <tr>\n",
       "      <th>4</th>\n",
       "      <td>4</td>\n",
       "      <td>aranjuez</td>\n",
       "      <td>cristo</td>\n",
       "      <td>carrera 50 con calle 90</td>\n",
       "      <td>escultura</td>\n",
       "      <td>1983</td>\n",
       "      <td>josue giraldo</td>\n",
       "      <td>6.282358</td>\n",
       "      <td>-75.561155</td>\n",
       "    </tr>\n",
       "  </tbody>\n",
       "</table>\n",
       "</div>"
      ],
      "text/plain": [
       "   codigo-area      area                        name        general-direction  \\\n",
       "0            3  manrique               carlos gardel  carrera 45 con calle 73   \n",
       "1            3  manrique  jorge eliecer gaitan ayala  carrera 37 con calle 69   \n",
       "2            4  aranjuez        talentos en libertad  carrera 48 con calle 93   \n",
       "3            4  aranjuez              antonio nariño  carrera 50 con calle 90   \n",
       "4            4  aranjuez                      cristo  carrera 50 con calle 90   \n",
       "\n",
       "        type  year                author  latitude  longitude  \n",
       "0  escultura  1968          alfonso goez  6.269014 -75.554733  \n",
       "1  escultura  2004       rodolfo montoya  6.265313 -75.548335  \n",
       "2  escultura  2003  luz maria piedrahita  6.285199 -75.556308  \n",
       "3  escultura  1962          alfonso goez  6.282458 -75.561160  \n",
       "4  escultura  1983         josue giraldo  6.282358 -75.561155  "
      ]
     },
     "execution_count": 13,
     "metadata": {},
     "output_type": "execute_result"
    }
   ],
   "source": [
    "df = df.dropna(subset=['year'])\n",
    "df.reset_index(drop=True, inplace=True)\n",
    "df['year'] = df['year'].astype(int)\n",
    "df.head()"
   ]
  },
  {
   "cell_type": "code",
   "execution_count": 14,
   "metadata": {},
   "outputs": [
    {
     "name": "stdout",
     "output_type": "stream",
     "text": [
      "<class 'pandas.core.frame.DataFrame'>\n",
      "RangeIndex: 156 entries, 0 to 155\n",
      "Data columns (total 9 columns):\n",
      " #   Column             Non-Null Count  Dtype  \n",
      "---  ------             --------------  -----  \n",
      " 0   codigo-area        156 non-null    int64  \n",
      " 1   area               156 non-null    object \n",
      " 2   name               156 non-null    object \n",
      " 3   general-direction  156 non-null    object \n",
      " 4   type               156 non-null    object \n",
      " 5   year               156 non-null    int64  \n",
      " 6   author             156 non-null    object \n",
      " 7   latitude           156 non-null    float64\n",
      " 8   longitude          156 non-null    float64\n",
      "dtypes: float64(2), int64(2), object(5)\n",
      "memory usage: 11.1+ KB\n"
     ]
    }
   ],
   "source": [
    "df.info()"
   ]
  },
  {
   "cell_type": "code",
   "execution_count": 15,
   "metadata": {},
   "outputs": [],
   "source": [
    "df.to_csv('../data/esculturas-publicas-medellin-limpio.csv', index=False)"
   ]
  }
 ],
 "metadata": {
  "kernelspec": {
   "display_name": ".venv",
   "language": "python",
   "name": "python3"
  },
  "language_info": {
   "codemirror_mode": {
    "name": "ipython",
    "version": 3
   },
   "file_extension": ".py",
   "mimetype": "text/x-python",
   "name": "python",
   "nbconvert_exporter": "python",
   "pygments_lexer": "ipython3",
   "version": "3.9.6"
  }
 },
 "nbformat": 4,
 "nbformat_minor": 2
}
