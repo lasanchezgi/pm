{
 "cells": [
  {
   "cell_type": "markdown",
   "metadata": {},
   "source": [
    "# Análisis descriptivo univariado"
   ]
  },
  {
   "cell_type": "markdown",
   "metadata": {},
   "source": [
    "## Importar librerias"
   ]
  },
  {
   "cell_type": "code",
   "execution_count": 1,
   "metadata": {},
   "outputs": [],
   "source": [
    "import matplotlib.pyplot as plt\n",
    "import seaborn as sns\n",
    "\n",
    "colors = ['#1D1B1D', '#3B393B', '#605A39', '#7A6E45', '#9F8A6A', '#C6A078', '#B65022', '#D47138', '#F2E3C6', '#F5E1B0', '#F4F4F4', '#E0E0E0', '#2F2B2F', '#D9C6AD', '#987E5A']\n",
    "sns.set_palette(sns.color_palette(colors))"
   ]
  },
  {
   "cell_type": "markdown",
   "metadata": {},
   "source": [
    "## Análisis univariado"
   ]
  },
  {
   "cell_type": "code",
   "execution_count": 2,
   "metadata": {},
   "outputs": [],
   "source": [
    "def univariate_analysis_numeric(df):\n",
    "    # Obtener solo las columnas numéricas\n",
    "    numeric_columns = df.select_dtypes(include=['float64', 'int64'])\n",
    "\n",
    "    # Iterar sobre cada columna numérica\n",
    "    for column in numeric_columns.columns:\n",
    "        print(f\"Análisis univariado para la columna '{column}':\")\n",
    "        print(\"----------------------------------------\")\n",
    "        \n",
    "        # Estadísticas descriptivas\n",
    "        print(\"Estadísticas descriptivas:\")\n",
    "        print(numeric_columns[column].describe())\n",
    "        print()\n",
    "\n",
    "        # Gráfico de distribución (histograma y KDE)\n",
    "        plt.figure(figsize=(10, 5))\n",
    "        plt.subplot(1, 2, 1)\n",
    "        sns.distplot(df[column], kde=False, bins=30, color=colors[0])\n",
    "        plt.title(f'Distribución de {column}')\n",
    "\n",
    "        # Boxplot\n",
    "        plt.subplot(1, 2, 2)\n",
    "        sns.boxplot(data=df[column], orient='v', palette=colors)\n",
    "        plt.title(f'Boxplot de {column}')\n",
    "\n",
    "        plt.tight_layout()\n",
    "        plt.show()\n",
    "        print()"
   ]
  },
  {
   "cell_type": "code",
   "execution_count": 3,
   "metadata": {},
   "outputs": [],
   "source": [
    "def univariate_analysis_categorical(df):\n",
    "    # Obtener solo las columnas categóricas\n",
    "    categorical_columns = df.select_dtypes(include=['object', 'category'])\n",
    "\n",
    "    # Iterar sobre cada columna categórica\n",
    "    for column in categorical_columns.columns:\n",
    "        print(f\"Análisis univariado para la columna '{column}':\")\n",
    "        print(\"----------------------------------------\")\n",
    "        \n",
    "        # Conteo de frecuencia de cada categoría\n",
    "        print(\"Frecuencia de cada categoría:\")\n",
    "        print(categorical_columns[column].value_counts())\n",
    "        print()\n",
    "\n",
    "        # Gráfico de barras para las frecuencias de categorías, ordenadas en orden descendente\n",
    "        plt.figure(figsize=(15, 5))\n",
    "        sns.countplot(x=column, data=categorical_columns, order=categorical_columns[column].value_counts().index, palette=colors)\n",
    "        plt.title(f'Frecuencia de categorías en {column}')\n",
    "        plt.xticks(rotation=90)\n",
    "        plt.tight_layout()\n",
    "        plt.show()\n",
    "        print()"
   ]
  },
  {
   "cell_type": "code",
   "execution_count": 4,
   "metadata": {},
   "outputs": [],
   "source": [
    "def generar_reporte_nulos(df):\n",
    "    # Reporte de registros nulos (NaN)\n",
    "    nulos_nan = df.isnull().sum()\n",
    "    nulos_nan = nulos_nan[nulos_nan > 0]  # Filtrar solo columnas con nulos\n",
    "\n",
    "    # Reporte de registros None\n",
    "    nulos_none = (df == None).sum()\n",
    "    nulos_none = nulos_none[nulos_none > 0]  # Filtrar solo columnas con nulos\n",
    "\n",
    "    # Reporte de registros en blanco (\"\")\n",
    "    nulos_blank = (df == '').sum()\n",
    "    nulos_blank = nulos_blank[nulos_blank > 0]  # Filtrar solo columnas con nulos\n",
    "\n",
    "    # Imprimir reportes\n",
    "    if not nulos_nan.empty:\n",
    "        print('Registros nulos por columna (NaN):')\n",
    "        print(nulos_nan)\n",
    "        print('---------------------------------')\n",
    "    \n",
    "    if not nulos_none.empty:\n",
    "        print('Registros en \"None\" por columna:')\n",
    "        print(nulos_none)\n",
    "        print('---------------------------------')\n",
    "\n",
    "    if not nulos_blank.empty:\n",
    "        print('Registros en \"\" por columna:')\n",
    "        print(nulos_blank)\n",
    "        print('---------------------------------')"
   ]
  }
 ],
 "metadata": {
  "kernelspec": {
   "display_name": ".venv",
   "language": "python",
   "name": "python3"
  },
  "language_info": {
   "codemirror_mode": {
    "name": "ipython",
    "version": 3
   },
   "file_extension": ".py",
   "mimetype": "text/x-python",
   "name": "python",
   "nbconvert_exporter": "python",
   "pygments_lexer": "ipython3",
   "version": "3.9.6"
  }
 },
 "nbformat": 4,
 "nbformat_minor": 2
}
